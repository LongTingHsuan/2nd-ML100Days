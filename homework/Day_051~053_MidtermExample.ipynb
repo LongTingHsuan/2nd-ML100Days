{
 "cells": [
  {
   "cell_type": "markdown",
   "metadata": {},
   "source": [
    "# 期中考\n",
    "* https://www.kaggle.com/c/ml100marathon-02-01"
   ]
  },
  {
   "cell_type": "code",
   "execution_count": 1,
   "metadata": {},
   "outputs": [],
   "source": [
    "import os\n",
    "import numpy as np\n",
    "import pandas as pd\n",
    "from datetime import date\n",
    "import matplotlib.pyplot as plt\n",
    "%matplotlib inline\n",
    "\n",
    "from sklearn.model_selection import KFold, train_test_split, StratifiedKFold, cross_val_score, GridSearchCV\n",
    "from sklearn.pipeline import Pipeline\n",
    "from sklearn.linear_model import SGDClassifier, LogisticRegression\n",
    "from sklearn.preprocessing import StandardScaler\n",
    "from sklearn.metrics import log_loss, roc_auc_score, auc, roc_curve, accuracy_score\n",
    "from sklearn.preprocessing import MinMaxScaler\n",
    "\n",
    "DATA_ROOT = \"data_midterm_example/\""
   ]
  },
  {
   "cell_type": "code",
   "execution_count": 2,
   "metadata": {},
   "outputs": [
    {
     "name": "stdout",
     "output_type": "stream",
     "text": [
      "(1160742, 7)\n",
      "(306313, 6)\n"
     ]
    },
    {
     "data": {
      "text/html": [
       "<div>\n",
       "<style scoped>\n",
       "    .dataframe tbody tr th:only-of-type {\n",
       "        vertical-align: middle;\n",
       "    }\n",
       "\n",
       "    .dataframe tbody tr th {\n",
       "        vertical-align: top;\n",
       "    }\n",
       "\n",
       "    .dataframe thead th {\n",
       "        text-align: right;\n",
       "    }\n",
       "</style>\n",
       "<table border=\"1\" class=\"dataframe\">\n",
       "  <thead>\n",
       "    <tr style=\"text-align: right;\">\n",
       "      <th></th>\n",
       "      <th>User_id</th>\n",
       "      <th>Merchant_id</th>\n",
       "      <th>Coupon_id</th>\n",
       "      <th>Discount_rate</th>\n",
       "      <th>Distance</th>\n",
       "      <th>Date_received</th>\n",
       "      <th>Date</th>\n",
       "    </tr>\n",
       "  </thead>\n",
       "  <tbody>\n",
       "    <tr>\n",
       "      <th>0</th>\n",
       "      <td>1439408</td>\n",
       "      <td>2632</td>\n",
       "      <td>NaN</td>\n",
       "      <td>NaN</td>\n",
       "      <td>0.0</td>\n",
       "      <td>NaN</td>\n",
       "      <td>20160217.0</td>\n",
       "    </tr>\n",
       "    <tr>\n",
       "      <th>1</th>\n",
       "      <td>1439408</td>\n",
       "      <td>2632</td>\n",
       "      <td>8591.0</td>\n",
       "      <td>20:1</td>\n",
       "      <td>0.0</td>\n",
       "      <td>20160217.0</td>\n",
       "      <td>NaN</td>\n",
       "    </tr>\n",
       "    <tr>\n",
       "      <th>2</th>\n",
       "      <td>1439408</td>\n",
       "      <td>2632</td>\n",
       "      <td>1078.0</td>\n",
       "      <td>20:1</td>\n",
       "      <td>0.0</td>\n",
       "      <td>20160319.0</td>\n",
       "      <td>NaN</td>\n",
       "    </tr>\n",
       "    <tr>\n",
       "      <th>3</th>\n",
       "      <td>1832624</td>\n",
       "      <td>3381</td>\n",
       "      <td>7610.0</td>\n",
       "      <td>200:20</td>\n",
       "      <td>0.0</td>\n",
       "      <td>20160429.0</td>\n",
       "      <td>NaN</td>\n",
       "    </tr>\n",
       "    <tr>\n",
       "      <th>4</th>\n",
       "      <td>2029232</td>\n",
       "      <td>3381</td>\n",
       "      <td>11951.0</td>\n",
       "      <td>200:20</td>\n",
       "      <td>1.0</td>\n",
       "      <td>20160129.0</td>\n",
       "      <td>NaN</td>\n",
       "    </tr>\n",
       "    <tr>\n",
       "      <th>5</th>\n",
       "      <td>2223968</td>\n",
       "      <td>3381</td>\n",
       "      <td>9776.0</td>\n",
       "      <td>10:5</td>\n",
       "      <td>2.0</td>\n",
       "      <td>20160129.0</td>\n",
       "      <td>NaN</td>\n",
       "    </tr>\n",
       "    <tr>\n",
       "      <th>6</th>\n",
       "      <td>73611</td>\n",
       "      <td>2099</td>\n",
       "      <td>12034.0</td>\n",
       "      <td>100:10</td>\n",
       "      <td>NaN</td>\n",
       "      <td>20160207.0</td>\n",
       "      <td>NaN</td>\n",
       "    </tr>\n",
       "    <tr>\n",
       "      <th>7</th>\n",
       "      <td>163606</td>\n",
       "      <td>1569</td>\n",
       "      <td>5054.0</td>\n",
       "      <td>200:30</td>\n",
       "      <td>10.0</td>\n",
       "      <td>20160421.0</td>\n",
       "      <td>NaN</td>\n",
       "    </tr>\n",
       "    <tr>\n",
       "      <th>8</th>\n",
       "      <td>3273056</td>\n",
       "      <td>4833</td>\n",
       "      <td>7802.0</td>\n",
       "      <td>200:20</td>\n",
       "      <td>10.0</td>\n",
       "      <td>20160130.0</td>\n",
       "      <td>NaN</td>\n",
       "    </tr>\n",
       "    <tr>\n",
       "      <th>9</th>\n",
       "      <td>94107</td>\n",
       "      <td>3381</td>\n",
       "      <td>7610.0</td>\n",
       "      <td>200:20</td>\n",
       "      <td>2.0</td>\n",
       "      <td>20160412.0</td>\n",
       "      <td>NaN</td>\n",
       "    </tr>\n",
       "    <tr>\n",
       "      <th>10</th>\n",
       "      <td>253750</td>\n",
       "      <td>8390</td>\n",
       "      <td>NaN</td>\n",
       "      <td>NaN</td>\n",
       "      <td>0.0</td>\n",
       "      <td>NaN</td>\n",
       "      <td>20160327.0</td>\n",
       "    </tr>\n",
       "    <tr>\n",
       "      <th>11</th>\n",
       "      <td>253750</td>\n",
       "      <td>8390</td>\n",
       "      <td>7531.0</td>\n",
       "      <td>20:5</td>\n",
       "      <td>0.0</td>\n",
       "      <td>20160327.0</td>\n",
       "      <td>NaN</td>\n",
       "    </tr>\n",
       "    <tr>\n",
       "      <th>12</th>\n",
       "      <td>376492</td>\n",
       "      <td>1041</td>\n",
       "      <td>13490.0</td>\n",
       "      <td>30:5</td>\n",
       "      <td>2.0</td>\n",
       "      <td>20160127.0</td>\n",
       "      <td>NaN</td>\n",
       "    </tr>\n",
       "    <tr>\n",
       "      <th>13</th>\n",
       "      <td>1964720</td>\n",
       "      <td>7884</td>\n",
       "      <td>NaN</td>\n",
       "      <td>NaN</td>\n",
       "      <td>10.0</td>\n",
       "      <td>NaN</td>\n",
       "      <td>20160115.0</td>\n",
       "    </tr>\n",
       "    <tr>\n",
       "      <th>14</th>\n",
       "      <td>1964720</td>\n",
       "      <td>7884</td>\n",
       "      <td>6704.0</td>\n",
       "      <td>20:1</td>\n",
       "      <td>10.0</td>\n",
       "      <td>20160215.0</td>\n",
       "      <td>NaN</td>\n",
       "    </tr>\n",
       "    <tr>\n",
       "      <th>15</th>\n",
       "      <td>1113008</td>\n",
       "      <td>1041</td>\n",
       "      <td>NaN</td>\n",
       "      <td>NaN</td>\n",
       "      <td>2.0</td>\n",
       "      <td>NaN</td>\n",
       "      <td>20160114.0</td>\n",
       "    </tr>\n",
       "    <tr>\n",
       "      <th>16</th>\n",
       "      <td>1113008</td>\n",
       "      <td>1041</td>\n",
       "      <td>11197.0</td>\n",
       "      <td>30:5</td>\n",
       "      <td>2.0</td>\n",
       "      <td>20160114.0</td>\n",
       "      <td>NaN</td>\n",
       "    </tr>\n",
       "    <tr>\n",
       "      <th>17</th>\n",
       "      <td>2881376</td>\n",
       "      <td>5341</td>\n",
       "      <td>111.0</td>\n",
       "      <td>30:5</td>\n",
       "      <td>1.0</td>\n",
       "      <td>20160207.0</td>\n",
       "      <td>NaN</td>\n",
       "    </tr>\n",
       "    <tr>\n",
       "      <th>18</th>\n",
       "      <td>2881376</td>\n",
       "      <td>8390</td>\n",
       "      <td>7531.0</td>\n",
       "      <td>20:5</td>\n",
       "      <td>0.0</td>\n",
       "      <td>20160321.0</td>\n",
       "      <td>20160329.0</td>\n",
       "    </tr>\n",
       "    <tr>\n",
       "      <th>19</th>\n",
       "      <td>2881376</td>\n",
       "      <td>5341</td>\n",
       "      <td>111.0</td>\n",
       "      <td>30:5</td>\n",
       "      <td>1.0</td>\n",
       "      <td>20160207.0</td>\n",
       "      <td>NaN</td>\n",
       "    </tr>\n",
       "  </tbody>\n",
       "</table>\n",
       "</div>"
      ],
      "text/plain": [
       "    User_id  Merchant_id  Coupon_id Discount_rate  Distance  Date_received  \\\n",
       "0   1439408         2632        NaN           NaN       0.0            NaN   \n",
       "1   1439408         2632     8591.0          20:1       0.0     20160217.0   \n",
       "2   1439408         2632     1078.0          20:1       0.0     20160319.0   \n",
       "3   1832624         3381     7610.0        200:20       0.0     20160429.0   \n",
       "4   2029232         3381    11951.0        200:20       1.0     20160129.0   \n",
       "5   2223968         3381     9776.0          10:5       2.0     20160129.0   \n",
       "6     73611         2099    12034.0        100:10       NaN     20160207.0   \n",
       "7    163606         1569     5054.0        200:30      10.0     20160421.0   \n",
       "8   3273056         4833     7802.0        200:20      10.0     20160130.0   \n",
       "9     94107         3381     7610.0        200:20       2.0     20160412.0   \n",
       "10   253750         8390        NaN           NaN       0.0            NaN   \n",
       "11   253750         8390     7531.0          20:5       0.0     20160327.0   \n",
       "12   376492         1041    13490.0          30:5       2.0     20160127.0   \n",
       "13  1964720         7884        NaN           NaN      10.0            NaN   \n",
       "14  1964720         7884     6704.0          20:1      10.0     20160215.0   \n",
       "15  1113008         1041        NaN           NaN       2.0            NaN   \n",
       "16  1113008         1041    11197.0          30:5       2.0     20160114.0   \n",
       "17  2881376         5341      111.0          30:5       1.0     20160207.0   \n",
       "18  2881376         8390     7531.0          20:5       0.0     20160321.0   \n",
       "19  2881376         5341      111.0          30:5       1.0     20160207.0   \n",
       "\n",
       "          Date  \n",
       "0   20160217.0  \n",
       "1          NaN  \n",
       "2          NaN  \n",
       "3          NaN  \n",
       "4          NaN  \n",
       "5          NaN  \n",
       "6          NaN  \n",
       "7          NaN  \n",
       "8          NaN  \n",
       "9          NaN  \n",
       "10  20160327.0  \n",
       "11         NaN  \n",
       "12         NaN  \n",
       "13  20160115.0  \n",
       "14         NaN  \n",
       "15  20160114.0  \n",
       "16         NaN  \n",
       "17         NaN  \n",
       "18  20160329.0  \n",
       "19         NaN  "
      ]
     },
     "execution_count": 2,
     "metadata": {},
     "output_type": "execute_result"
    }
   ],
   "source": [
    "dfoff = pd.read_csv(os.path.join(DATA_ROOT,'train_offline.csv'))\n",
    "dftest = pd.read_csv(os.path.join(DATA_ROOT,'test_offline.csv'))\n",
    "dftest = dftest[~dftest.Coupon_id.isna()]\n",
    "dftest.reset_index(drop=True, inplace=True)\n",
    "print(dfoff.shape)\n",
    "print(dftest.shape)\n",
    "dfoff.head(20)"
   ]
  },
  {
   "cell_type": "code",
   "execution_count": 3,
   "metadata": {},
   "outputs": [
    {
     "name": "stdout",
     "output_type": "stream",
     "text": [
      "(1160742, 7)\n",
      "(306313, 6)\n"
     ]
    }
   ],
   "source": [
    "## 先用小量資料來測試\n",
    "#dfoff = dfoff[:10000]\n",
    "#dftest = dftest[:1000]\n",
    "\n",
    "print(dfoff.shape)\n",
    "print(dftest.shape)"
   ]
  },
  {
   "cell_type": "markdown",
   "metadata": {},
   "source": [
    "### 定義目標"
   ]
  },
  {
   "cell_type": "code",
   "execution_count": 4,
   "metadata": {},
   "outputs": [
    {
     "data": {
      "text/plain": [
       " 0    710665\n",
       "-1    413773\n",
       " 1     36304\n",
       "Name: label, dtype: int64"
      ]
     },
     "execution_count": 4,
     "metadata": {},
     "output_type": "execute_result"
    }
   ],
   "source": [
    "## Create target label \n",
    "\"\"\"\n",
    "According to the definition, \n",
    "1) buy with coupon within (include) 15 days ==> 1\n",
    "2) buy with coupon but out of 15 days ==> 0\n",
    "3) buy without coupon ==> -1 (we don't care)\n",
    "\"\"\"\n",
    "def label(row):\n",
    "    if np.isnan(row['Date_received']):\n",
    "        return -1\n",
    "    if not np.isnan(row['Date']):\n",
    "        td = pd.to_datetime(row['Date'], format='%Y%m%d') -  pd.to_datetime(row['Date_received'], format='%Y%m%d')\n",
    "        if td <= pd.Timedelta(15, 'D'):\n",
    "            return 1\n",
    "    return 0\n",
    "\n",
    "dfoff[\"label\"] = dfoff.apply(label, axis=1)\n",
    "dfoff[\"label\"].value_counts()"
   ]
  },
  {
   "cell_type": "markdown",
   "metadata": {},
   "source": [
    "### 定義新的 feature"
   ]
  },
  {
   "cell_type": "code",
   "execution_count": 5,
   "metadata": {},
   "outputs": [],
   "source": [
    "# Generate features - weekday acquired coupon\n",
    "def getWeekday(row):\n",
    "    if (np.isnan(row)) or (row==-1):\n",
    "        return row\n",
    "    else:\n",
    "        return pd.to_datetime(row, format = \"%Y%m%d\").dayofweek+1 # add one to make it from 0~6 -> 1~7\n",
    "\n",
    "dfoff['weekday'] = dfoff['Date_received'].apply(getWeekday)\n",
    "dftest['weekday'] = dftest['Date_received'].apply(getWeekday)\n",
    "\n",
    "# weekday_type (weekend = 1)\n",
    "dfoff['weekday_type'] = dfoff['weekday'].apply(lambda x : 1 if x in [6,7] else 0 ) # apply to trainset\n",
    "dftest['weekday_type'] = dftest['weekday'].apply(lambda x : 1 if x in [6,7] else 0 ) # apply to testset"
   ]
  },
  {
   "cell_type": "code",
   "execution_count": 6,
   "metadata": {},
   "outputs": [
    {
     "name": "stdout",
     "output_type": "stream",
     "text": [
      "['weekday_1', 'weekday_2', 'weekday_3', 'weekday_4', 'weekday_5', 'weekday_6', 'weekday_7']\n"
     ]
    }
   ],
   "source": [
    "weekdaycols = ['weekday_' + str(i) for i in range(1,8)]\n",
    "print(weekdaycols)\n",
    "\n",
    "tmpdf = pd.get_dummies(dfoff['weekday'].replace(-1, np.nan))\n",
    "tmpdf.columns = weekdaycols\n",
    "dfoff[weekdaycols] = tmpdf\n",
    "\n",
    "tmpdf = pd.get_dummies(dftest['weekday'].replace(-1, np.nan))\n",
    "tmpdf.columns = weekdaycols\n",
    "dftest[weekdaycols] = tmpdf"
   ]
  },
  {
   "cell_type": "code",
   "execution_count": 7,
   "metadata": {},
   "outputs": [],
   "source": [
    "# Generate features - coupon discount and distance\n",
    "def getDiscountType(row):\n",
    "    if row == 'null':\n",
    "        return 'null'\n",
    "    elif ':' in row:\n",
    "        return 1\n",
    "    else:\n",
    "        return 0\n",
    "\n",
    "def convertRate(row):\n",
    "    \"\"\"Convert discount to rate\"\"\"\n",
    "    if row == 'null':\n",
    "        return 1.0\n",
    "    elif ':' in row:\n",
    "        rows = row.split(':')\n",
    "        return 1.0 - float(rows[1])/float(rows[0])\n",
    "    else:\n",
    "        return float(row)\n",
    "\n",
    "def getDiscountMan(row):\n",
    "    if ':' in row:\n",
    "        rows = row.split(':')\n",
    "        return int(rows[0])\n",
    "    else:\n",
    "        return 0\n",
    "\n",
    "def getDiscountJian(row):\n",
    "    if ':' in row:\n",
    "        rows = row.split(':')\n",
    "        return int(rows[1])\n",
    "    else:\n",
    "        return 0\n",
    "\n",
    "def processData(df):\n",
    "    \n",
    "    # convert discount_rate\n",
    "    df['discount_rate'] = df['Discount_rate'].astype('str').apply(convertRate)\n",
    "    df['discount_man'] = df['Discount_rate'].astype('str').apply(getDiscountMan)\n",
    "    df['discount_jian'] = df['Discount_rate'].astype('str').apply(getDiscountJian)\n",
    "    df['discount_type'] = df['Discount_rate'].astype('str').apply(getDiscountType)\n",
    "    \n",
    "    # convert distance\n",
    "    df.loc[df.Distance.isna(), \"Distance\"] = 99\n",
    "    df['Distance_type'] = df['Distance'].apply(lambda x : 1 if x > 2 else 0 )\n",
    "    return df\n",
    "\n",
    "dfoff = processData(dfoff)\n",
    "dftest = processData(dftest)"
   ]
  },
  {
   "cell_type": "code",
   "execution_count": 8,
   "metadata": {},
   "outputs": [],
   "source": [
    "# 店家發放優惠券次數\n",
    "def CouponIndex(row):\n",
    "    if np.isnan(row):\n",
    "        return 0\n",
    "    else:\n",
    "        return 1\n",
    "dfoff['CouponIndex'] = dfoff['Coupon_id'].apply(CouponIndex)\n",
    "dftest['CouponIndex'] = dftest['Coupon_id'].apply(CouponIndex) \n",
    "\n",
    "dfoff_temp = dfoff[['Merchant_id','CouponIndex']]\n",
    "dftest_temp = dftest[['Merchant_id','CouponIndex']]\n",
    "\n",
    "dfoff_group = dfoff_temp.groupby('Merchant_id')\n",
    "dftest_group = dftest_temp.groupby('Merchant_id')\n",
    "\n",
    "dfoff_group_sum = dfoff_group.agg('sum').reset_index().rename(columns = {'CouponIndex':'Coupon_count'})\n",
    "dftest_group_sum = dftest_group.agg('sum').reset_index().rename(columns = {'CouponIndex':'Coupon_count'})\n",
    "\n",
    "dfoff = dfoff.merge(dfoff_group_sum, on = 'Merchant_id')\n",
    "dftest = dftest.merge(dftest_group_sum, on = 'Merchant_id')"
   ]
  },
  {
   "cell_type": "code",
   "execution_count": 9,
   "metadata": {},
   "outputs": [],
   "source": [
    "# User 獲得優惠券張數\n",
    "def UserIndex(row):\n",
    "    if np.isnan(row):\n",
    "        return 0\n",
    "    else:\n",
    "        return 1\n",
    "dfoff['UserIndex'] = dfoff['User_id'].apply(UserIndex)\n",
    "dftest['UserIndex'] = dftest['User_id'].apply(UserIndex) \n",
    "\n",
    "dfoff_temp = dfoff[['User_id','UserIndex']]\n",
    "dftest_temp = dftest[['User_id','UserIndex']]\n",
    "\n",
    "dfoff_group = dfoff_temp.groupby('User_id')\n",
    "dftest_group = dftest_temp.groupby('User_id')\n",
    "\n",
    "dfoff_group_sum = dfoff_group.agg('sum').reset_index().rename(columns = {'UserIndex':'User_count'})\n",
    "dftest_group_sum = dftest_group.agg('sum').reset_index().rename(columns = {'UserIndex':'User_count'})\n",
    "\n",
    "dfoff = dfoff.merge(dfoff_group_sum, on = 'User_id')\n",
    "dftest = dftest.merge(dftest_group_sum, on = 'User_id')"
   ]
  },
  {
   "cell_type": "markdown",
   "metadata": {},
   "source": [
    "# 消費者的總購買次數\n",
    "def UserIndex(row):\n",
    "    if np.isnan(row):\n",
    "        return 0\n",
    "    else:\n",
    "        return 1\n",
    "dfoff['UserIndex'] = dfoff['User_id'].apply(UserIndex)\n",
    "dftest['UserIndex'] = dftest['User_id'].apply(UserIndex)  "
   ]
  },
  {
   "cell_type": "markdown",
   "metadata": {},
   "source": [
    "dfoff_temp = dfoff[['User_id','UserIndex']]\n",
    "dftest_temp = dftest[['User_id','UserIndex']]\n",
    "\n",
    "dfoff_group = dfoff_temp.groupby('User_id')\n",
    "dftest_group = dftest_temp.groupby('User_id')\n",
    "\n",
    "dfoff['UserCount'] = 0\n",
    "dftest['UserCount'] = 0\n",
    "\n",
    "def get_coupon_count(df,df_group):\n",
    "    for i in range(len(df['User_id'])):\n",
    "        df['UserCount'][i] = df_group.get_group(df['User_id'][i])['UserIndex'].sum()\n",
    "\n",
    "get_coupon_count(dfoff,dfoff_group)\n",
    "dfoff"
   ]
  },
  {
   "cell_type": "code",
   "execution_count": 10,
   "metadata": {},
   "outputs": [
    {
     "data": {
      "text/plain": [
       "label            1.000000\n",
       "CouponIndex      0.945769\n",
       "discount_type    0.893634\n",
       "discount_jian    0.526072\n",
       "discount_man     0.506418\n",
       "weekday_type     0.371477\n",
       "Distance_type    0.313457\n",
       "weekday_7        0.264702\n",
       "Coupon_count     0.245070\n",
       "weekday_5        0.244123\n",
       "weekday_1        0.234004\n",
       "weekday_6        0.225822\n",
       "Distance         0.222471\n",
       "weekday_4        0.209967\n",
       "weekday_3        0.193491\n",
       "weekday_2        0.190574\n",
       "Date_received    0.090294\n",
       "Coupon_id        0.014643\n",
       "Date             0.011166\n",
       "User_id         -0.000863\n",
       "Merchant_id     -0.006524\n",
       "weekday         -0.016272\n",
       "discount_rate   -0.078597\n",
       "User_count      -0.245648\n",
       "UserIndex             NaN\n",
       "Name: label, dtype: float64"
      ]
     },
     "execution_count": 10,
     "metadata": {},
     "output_type": "execute_result"
    }
   ],
   "source": [
    "# Check 相關係數\n",
    "dfoff.corr()['label'].sort_values(ascending=False)"
   ]
  },
  {
   "cell_type": "markdown",
   "metadata": {},
   "source": [
    "### 將資料分為 train & valid "
   ]
  },
  {
   "cell_type": "code",
   "execution_count": 11,
   "metadata": {},
   "outputs": [
    {
     "name": "stdout",
     "output_type": "stream",
     "text": [
      "Train size: 667753, #positive: 32472\n",
      "Valid size: 79216, #positive: 3832\n"
     ]
    }
   ],
   "source": [
    "## Naive model\n",
    "def split_train_valid(row, date_cut=\"20160416\"):\n",
    "    is_train = True if pd.to_datetime(row, format=\"%Y%m%d\") < pd.to_datetime(date_cut, format=\"%Y%m%d\") else False\n",
    "    return is_train\n",
    "    \n",
    "df = dfoff[dfoff['label'] != -1].copy()\n",
    "df[\"is_train\"] = df[\"Date_received\"].apply(split_train_valid)\n",
    "train = df[df[\"is_train\"]]\n",
    "valid = df[~df[\"is_train\"]]\n",
    "train.reset_index(drop=True, inplace=True)\n",
    "valid.reset_index(drop=True, inplace=True)\n",
    "print(\"Train size: {}, #positive: {}\".format(len(train), train[\"label\"].sum()))\n",
    "print(\"Valid size: {}, #positive: {}\".format(len(valid), valid[\"label\"].sum()))"
   ]
  },
  {
   "cell_type": "code",
   "execution_count": 12,
   "metadata": {},
   "outputs": [
    {
     "name": "stdout",
     "output_type": "stream",
     "text": [
      "18 ['Distance_type', 'Coupon_count', 'User_count', 'Merchant_id', 'discount_rate', 'discount_type', 'discount_man', 'discount_jian', 'Distance', 'weekday', 'weekday_type', 'weekday_1', 'weekday_2', 'weekday_3', 'weekday_4', 'weekday_5', 'weekday_6', 'weekday_7']\n"
     ]
    }
   ],
   "source": [
    "original_feature = ['Distance_type',\n",
    "                    'Coupon_count',\n",
    "                    'User_count',\n",
    "                    'Merchant_id',\n",
    "                    'discount_rate',\n",
    "                    'discount_type',\n",
    "                    'discount_man', \n",
    "                    'discount_jian',\n",
    "                    'Distance', \n",
    "                    'weekday', \n",
    "                    'weekday_type'] + weekdaycols\n",
    "print(len(original_feature),original_feature)"
   ]
  },
  {
   "cell_type": "code",
   "execution_count": 13,
   "metadata": {},
   "outputs": [
    {
     "name": "stdout",
     "output_type": "stream",
     "text": [
      "['Distance_type', 'Coupon_count', 'User_count', 'Merchant_id', 'discount_rate', 'discount_type', 'discount_man', 'discount_jian', 'Distance', 'weekday', 'weekday_type', 'weekday_1', 'weekday_2', 'weekday_3', 'weekday_4', 'weekday_5', 'weekday_6', 'weekday_7']\n"
     ]
    }
   ],
   "source": [
    "# 定義建模的 feature\n",
    "predictors = original_feature\n",
    "print(predictors)"
   ]
  },
  {
   "cell_type": "markdown",
   "metadata": {},
   "source": [
    "### 建模 (function) : RandomForest"
   ]
  },
  {
   "cell_type": "code",
   "execution_count": 14,
   "metadata": {},
   "outputs": [
    {
     "name": "stdout",
     "output_type": "stream",
     "text": [
      "Validation AUC: 0.820, Accuracy: 0.952\n"
     ]
    }
   ],
   "source": [
    "from sklearn.ensemble import RandomForestClassifier\n",
    "\n",
    "\n",
    "# 建立模型 (使用 20 顆樹，每棵樹最大深度 5)\n",
    "clf_RF = RandomForestClassifier(n_estimators = 20,max_depth = 5)\n",
    "\n",
    "# 訓練模型\n",
    "clf_RF.fit(train[predictors], train['label'])\n",
    "\n",
    "# 預測測試集\n",
    "y_valid_RF_pred = clf_RF.predict_proba(valid[predictors])\n",
    "\n",
    "\n",
    "validRF = valid.copy()\n",
    "validRF['pred_prob'] = y_valid_RF_pred[:, 1]\n",
    "auc_score = roc_auc_score(y_true=valid.label, y_score=y_valid_RF_pred[:,1])\n",
    "acc = accuracy_score(y_true=valid.label, y_pred=y_valid_RF_pred.argmax(axis=1))\n",
    "print(\"Validation AUC: {:.3f}, Accuracy: {:.3f}\".format(auc_score, acc))"
   ]
  },
  {
   "cell_type": "markdown",
   "metadata": {},
   "source": [
    "### 建模 (function) : GradientBoosting"
   ]
  },
  {
   "cell_type": "code",
   "execution_count": 15,
   "metadata": {},
   "outputs": [
    {
     "name": "stdout",
     "output_type": "stream",
     "text": [
      "Validation AUC: 0.851, Accuracy: 0.952\n"
     ]
    }
   ],
   "source": [
    "from sklearn.ensemble import GradientBoostingClassifier\n",
    "\n",
    "# 建立模型 \n",
    "clf_GDBT = GradientBoostingClassifier()\n",
    "\n",
    "# 訓練模型\n",
    "clf_GDBT.fit(train[predictors], train['label'])\n",
    "\n",
    "# 預測測試集\n",
    "y_valid_GDBT_pred = clf_GDBT.predict_proba(valid[predictors])\n",
    "\n",
    "\n",
    "validGDBT = valid.copy()\n",
    "validGDBT['pred_prob'] = y_valid_GDBT_pred[:, 1]\n",
    "auc_score = roc_auc_score(y_true=valid.label, y_score=y_valid_GDBT_pred[:,1])\n",
    "acc = accuracy_score(y_true=valid.label, y_pred=y_valid_GDBT_pred.argmax(axis=1))\n",
    "print(\"Validation AUC: {:.3f}, Accuracy: {:.3f}\".format(auc_score, acc))"
   ]
  },
  {
   "cell_type": "markdown",
   "metadata": {},
   "source": [
    "### 建模 (function) : Logistic Regression"
   ]
  },
  {
   "cell_type": "code",
   "execution_count": 16,
   "metadata": {},
   "outputs": [
    {
     "name": "stderr",
     "output_type": "stream",
     "text": [
      "/Users/tomlong/anaconda3/lib/python3.7/site-packages/sklearn/linear_model/logistic.py:433: FutureWarning: Default solver will be changed to 'lbfgs' in 0.22. Specify a solver to silence this warning.\n",
      "  FutureWarning)\n"
     ]
    },
    {
     "name": "stdout",
     "output_type": "stream",
     "text": [
      "Validation AUC: 0.798, Accuracy: 0.951\n"
     ]
    }
   ],
   "source": [
    "from sklearn import linear_model\n",
    "\n",
    "# 建立模型 \n",
    "clf_LR = linear_model.LogisticRegression()\n",
    "\n",
    "# 訓練模型\n",
    "clf_LR.fit(train[predictors], train['label'])\n",
    "\n",
    "# 預測測試集\n",
    "y_valid_LR_pred = clf_LR.predict_proba(valid[predictors])\n",
    "\n",
    "\n",
    "validLR = valid.copy()\n",
    "validLR['pred_prob'] = y_valid_LR_pred[:, 1]\n",
    "auc_score = roc_auc_score(y_true=valid.label, y_score=y_valid_LR_pred[:,1])\n",
    "acc = accuracy_score(y_true=valid.label, y_pred=y_valid_LR_pred.argmax(axis=1))\n",
    "print(\"Validation AUC: {:.3f}, Accuracy: {:.3f}\".format(auc_score, acc))"
   ]
  },
  {
   "cell_type": "markdown",
   "metadata": {},
   "source": [
    "### 測試資料導入"
   ]
  },
  {
   "cell_type": "code",
   "execution_count": 17,
   "metadata": {},
   "outputs": [
    {
     "name": "stdout",
     "output_type": "stream",
     "text": [
      "(306313, 24)\n"
     ]
    }
   ],
   "source": [
    "targetset = dftest.copy()\n",
    "print(targetset.shape)\n",
    "targetset = targetset[~targetset.Coupon_id.isna()]\n",
    "targetset.reset_index(drop=True, inplace=True)\n",
    "testset = targetset[predictors].copy()\n",
    "\n",
    "# Random Forest\n",
    "y_testRF_pred = clf_RF.predict_proba(testset[predictors])\n",
    "testRF = testset.copy()\n",
    "testRF['pred_prob'] = y_testRF_pred[:, 1]\n",
    "# Gradient Boosting\n",
    "y_testGDBT_pred = clf_GDBT.predict_proba(testset[predictors])\n",
    "testGDBT = testset.copy()\n",
    "testGDBT['pred_prob'] = y_testGDBT_pred[:, 1]\n",
    "# Logistic Regression\n",
    "y_testLR_pred = clf_LR.predict_proba(testset[predictors])\n",
    "testLR = testset.copy()\n",
    "testLR['pred_prob'] = y_testLR_pred[:, 1]"
   ]
  },
  {
   "cell_type": "code",
   "execution_count": 18,
   "metadata": {},
   "outputs": [],
   "source": [
    "# Random Forest\n",
    "outputRF = pd.concat((targetset[[\"User_id\", \"Coupon_id\", \"Date_received\"]], testRF[\"pred_prob\"]), axis=1)\n",
    "outputRF.loc[:, \"User_id\"] = outputRF[\"User_id\"].apply(lambda x:str(int(x)))\n",
    "outputRF.loc[:, \"Coupon_id\"] = outputRF[\"Coupon_id\"].apply(lambda x:str(int(x)))\n",
    "outputRF.loc[:, \"Date_received\"] = outputRF[\"Date_received\"].apply(lambda x:str(int(x)))\n",
    "outputRF[\"uid\"] = outputRF[[\"User_id\", \"Coupon_id\", \"Date_received\"]].apply(lambda x: '_'.join(x.values), axis=1)\n",
    "outputRF.reset_index(drop=True, inplace=True)\n",
    "# Gradient Boosting\n",
    "outputGDBT = pd.concat((targetset[[\"User_id\", \"Coupon_id\", \"Date_received\"]], testGDBT[\"pred_prob\"]), axis=1)\n",
    "outputGDBT.loc[:, \"User_id\"] = outputGDBT[\"User_id\"].apply(lambda x:str(int(x)))\n",
    "outputGDBT.loc[:, \"Coupon_id\"] = outputGDBT[\"Coupon_id\"].apply(lambda x:str(int(x)))\n",
    "outputGDBT.loc[:, \"Date_received\"] = outputGDBT[\"Date_received\"].apply(lambda x:str(int(x)))\n",
    "outputGDBT[\"uid\"] = outputGDBT[[\"User_id\", \"Coupon_id\", \"Date_received\"]].apply(lambda x: '_'.join(x.values), axis=1)\n",
    "outputGDBT.reset_index(drop=True, inplace=True)\n",
    "# Logistic Regression\n",
    "outputLR = pd.concat((targetset[[\"User_id\", \"Coupon_id\", \"Date_received\"]], testLR[\"pred_prob\"]), axis=1)\n",
    "outputLR.loc[:, \"User_id\"] = outputLR[\"User_id\"].apply(lambda x:str(int(x)))\n",
    "outputLR.loc[:, \"Coupon_id\"] = outputLR[\"Coupon_id\"].apply(lambda x:str(int(x)))\n",
    "outputLR.loc[:, \"Date_received\"] = outputLR[\"Date_received\"].apply(lambda x:str(int(x)))\n",
    "outputLR[\"uid\"] = outputLR[[\"User_id\", \"Coupon_id\", \"Date_received\"]].apply(lambda x: '_'.join(x.values), axis=1)\n",
    "outputLR.reset_index(drop=True, inplace=True)"
   ]
  },
  {
   "cell_type": "code",
   "execution_count": 19,
   "metadata": {},
   "outputs": [
    {
     "name": "stdout",
     "output_type": "stream",
     "text": [
      "                     uid     label\n",
      "0  1000020_2705_20160519  0.128122\n",
      "1  1000020_8192_20160513  0.155207\n",
      "2  1000065_1455_20160527  0.124422\n",
      "3  1000085_8067_20160513  0.137338\n",
      "4  1000086_2418_20160613  0.098876\n",
      "                     uid     label\n",
      "0  1000020_2705_20160519  0.062882\n",
      "1  1000020_8192_20160513  0.084455\n",
      "2  1000065_1455_20160527  0.053332\n",
      "3  1000085_8067_20160513  0.071087\n",
      "4  1000086_2418_20160613  0.018147\n",
      "                     uid     label\n",
      "0  1000020_2705_20160519  0.094315\n",
      "1  1000020_8192_20160513  0.073461\n",
      "2  1000065_1455_20160527  0.153976\n",
      "3  1000085_8067_20160513  0.115597\n",
      "4  1000086_2418_20160613  0.150307\n"
     ]
    }
   ],
   "source": [
    "### NOTE: YOUR SUBMITION FILE SHOULD HAVE COLUMN NAME: uid, label\n",
    "# Random Forest\n",
    "outRF = outputRF.groupby(\"uid\", as_index=False).mean()\n",
    "outRF = outRF[[\"uid\", \"pred_prob\"]]\n",
    "outRF.columns = [\"uid\", \"label\"]\n",
    "outRF.to_csv(\"RF_Ver4.csv\", header=[\"uid\", \"label\"], index=False) # submission format\n",
    "print(outRF.head())\n",
    "# Gradient Boosting\n",
    "outGDBT = outputGDBT.groupby(\"uid\", as_index=False).mean()\n",
    "outGDBT = outGDBT[[\"uid\", \"pred_prob\"]]\n",
    "outGDBT.columns = [\"uid\", \"label\"]\n",
    "outGDBT.to_csv(\"GDBT_Ver4.csv\", header=[\"uid\", \"label\"], index=False) # submission format\n",
    "print(outGDBT.head())\n",
    "# Logistic Regression\n",
    "outLR = outputLR.groupby(\"uid\", as_index=False).mean()\n",
    "outLR = outLR[[\"uid\", \"pred_prob\"]]\n",
    "outLR.columns = [\"uid\", \"label\"]\n",
    "outRF.to_csv(\"LR_Ver4.csv\", header=[\"uid\", \"label\"], index=False) # submission format\n",
    "print(outLR.head())"
   ]
  },
  {
   "cell_type": "markdown",
   "metadata": {},
   "source": [
    "### 試試看使用blending"
   ]
  },
  {
   "cell_type": "code",
   "execution_count": 20,
   "metadata": {},
   "outputs": [
    {
     "name": "stdout",
     "output_type": "stream",
     "text": [
      "                     uid     label\n",
      "0  1000020_2705_20160519  0.095214\n",
      "1  1000020_8192_20160513  0.104441\n",
      "2  1000065_1455_20160527  0.110767\n",
      "3  1000085_8067_20160513  0.108130\n",
      "4  1000086_2418_20160613  0.089347\n"
     ]
    }
   ],
   "source": [
    "### blending\n",
    "# 三組模型分數\n",
    "lr_score = 0.64144\n",
    "gdbt_score = 0.63505\n",
    "rf_score = 0.64144\n",
    "sum_score = lr_score + gdbt_score + rf_score\n",
    "\n",
    "y_testblending_pred = y_testLR_pred*lr_score/sum_score  + y_testGDBT_pred*gdbt_score/sum_score + y_testRF_pred*rf_score/sum_score\n",
    "testblending = testset.copy()\n",
    "testblending['pred_prob'] = y_testblending_pred[:, 1]\n",
    "\n",
    "outputblending = pd.concat((targetset[[\"User_id\", \"Coupon_id\", \"Date_received\"]], testblending[\"pred_prob\"]), axis=1)\n",
    "outputblending.loc[:, \"User_id\"] = outputblending[\"User_id\"].apply(lambda x:str(int(x)))\n",
    "outputblending.loc[:, \"Coupon_id\"] = outputblending[\"Coupon_id\"].apply(lambda x:str(int(x)))\n",
    "outputblending.loc[:, \"Date_received\"] = outputblending[\"Date_received\"].apply(lambda x:str(int(x)))\n",
    "outputblending[\"uid\"] = outputblending[[\"User_id\", \"Coupon_id\", \"Date_received\"]].apply(lambda x: '_'.join(x.values), axis=1)\n",
    "outputblending.reset_index(drop=True, inplace=True)\n",
    "\n",
    "outblending = outputblending.groupby(\"uid\", as_index=False).mean()\n",
    "outblending = outblending[[\"uid\", \"pred_prob\"]]\n",
    "outblending.columns = [\"uid\", \"label\"]\n",
    "#outblending.to_csv(\"Blending(RF+LR+GDBT)_Ver3.csv\", header=[\"uid\", \"label\"], index=False) # submission format\n",
    "print(outblending.head())"
   ]
  },
  {
   "cell_type": "code",
   "execution_count": 21,
   "metadata": {},
   "outputs": [
    {
     "data": {
      "image/png": "[encoded data removed]",
      "text/plain": [
       "<Figure size 1440x864 with 1 Axes>"
      ]
     },
     "metadata": {
      "needs_background": "light"
     },
     "output_type": "display_data"
    }
   ],
   "source": [
    "from PIL import Image\n",
    "from io import BytesIO\n",
    "import matplotlib.pyplot as plt\n",
    "\n",
    "\n",
    "img = Image.open( \"submission_MidtermD51-D53.png\")\n",
    "plt.figure(figsize=(20,12)) \n",
    "plt.imshow(img)\n",
    "plt.show()"
   ]
  },
  {
   "cell_type": "code",
   "execution_count": null,
   "metadata": {},
   "outputs": [],
   "source": []
  }
 ],
 "metadata": {
  "kernelspec": {
   "display_name": "Python 3",
   "language": "python",
   "name": "python3"
  },
  "language_info": {
   "codemirror_mode": {
    "name": "ipython",
    "version": 3
   },
   "file_extension": ".py",
   "mimetype": "text/x-python",
   "name": "python",
   "nbconvert_exporter": "python",
   "pygments_lexer": "ipython3",
   "version": "3.7.1"
  }
 },
 "nbformat": 4,
 "nbformat_minor": 2
}
